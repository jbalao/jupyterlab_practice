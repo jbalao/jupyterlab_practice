{
 "cells": [
  {
   "cell_type": "markdown",
   "id": "19247c96-a05b-452f-a660-9356b4a8f809",
   "metadata": {},
   "source": [
    "# Jonas Balao\n",
    "Notebook for assignment 7"
   ]
  },
  {
   "cell_type": "code",
   "execution_count": 2,
   "id": "d9a8b84e-b3e8-47ce-891f-5d1499b65b2d",
   "metadata": {},
   "outputs": [
    {
     "name": "stdout",
     "output_type": "stream",
     "text": [
      "5.0\n"
     ]
    }
   ],
   "source": [
    "def compute_mean(values):\n",
    "    return sum(values) / len(values)\n",
    "\n",
    "# Calling the function\n",
    "result = compute_mean([2, 4, 6, 8])\n",
    "print(result)"
   ]
  },
  {
   "cell_type": "markdown",
   "id": "485f084a-bb89-4c4e-b47a-14da9b0c17e6",
   "metadata": {},
   "source": [
    "Th code block above defines the function `compute_mean` that takes a list of values and returns the mean (average) of those values.  The function is then called and passed the list `[2, 4, 6, 8]`.  The result is printed below.\n",
    "\n",
    "The equation for in Latex for mean is:\n",
    "\n",
    "$$\n",
    "\\bar{x} = \\frac{x_1 + x_2 + \\cdots + x_n}{n}\n",
    "$$\n",
    "\n",
    "Alternatively, it can be written using the summation notation as:\n",
    "\n",
    "$$\n",
    "\\bar{x} = \\frac{1}{n} \\left( \\sum_{i=1}^{n} x_i \\right)\n",
    "$$"
   ]
  },
  {
   "cell_type": "code",
   "execution_count": null,
   "id": "a2e27e0d-1cb1-456f-bbc3-c442182af839",
   "metadata": {},
   "outputs": [],
   "source": []
  }
 ],
 "metadata": {
  "kernelspec": {
   "display_name": "Python [conda env:base] *",
   "language": "python",
   "name": "conda-base-py"
  },
  "language_info": {
   "codemirror_mode": {
    "name": "ipython",
    "version": 3
   },
   "file_extension": ".py",
   "mimetype": "text/x-python",
   "name": "python",
   "nbconvert_exporter": "python",
   "pygments_lexer": "ipython3",
   "version": "3.12.2"
  }
 },
 "nbformat": 4,
 "nbformat_minor": 5
}
